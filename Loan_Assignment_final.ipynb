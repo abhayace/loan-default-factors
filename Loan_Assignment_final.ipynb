{
 "cells": [
  {
   "cell_type": "code",
   "execution_count": 1,
   "metadata": {},
   "outputs": [],
   "source": [
    "import pandas as pd\n",
    "import numpy as np\n",
    "import seaborn as sns\n",
    "import re"
   ]
  },
  {
   "cell_type": "markdown",
   "metadata": {},
   "source": [
    "## Data Extraction"
   ]
  },
  {
   "cell_type": "code",
   "execution_count": 2,
   "metadata": {},
   "outputs": [
    {
     "name": "stderr",
     "output_type": "stream",
     "text": [
      "/Users/aarora7/anaconda3/lib/python3.7/site-packages/IPython/core/interactiveshell.py:2785: DtypeWarning: Columns (47) have mixed types. Specify dtype option on import or set low_memory=False.\n",
      "  interactivity=interactivity, compiler=compiler, result=result)\n"
     ]
    }
   ],
   "source": [
    "loans_df = pd.read_csv('../loan.csv',encoding='utf-8')"
   ]
  },
  {
   "cell_type": "markdown",
   "metadata": {},
   "source": [
    "## Data Cleaning"
   ]
  },
  {
   "cell_type": "code",
   "execution_count": 3,
   "metadata": {},
   "outputs": [],
   "source": [
    "#Check if there any columns, with all rows null. Remove such columns\n",
    "loans_df = loans_df.dropna(how='all',axis=1)"
   ]
  },
  {
   "cell_type": "code",
   "execution_count": 4,
   "metadata": {},
   "outputs": [
    {
     "name": "stdout",
     "output_type": "stream",
     "text": [
      "term [' 36 months' ' 60 months']\n",
      "pymnt_plan ['n']\n",
      "initial_list_status ['f']\n",
      "collections_12_mths_ex_med [ 0. nan]\n",
      "policy_code [1]\n",
      "application_type ['INDIVIDUAL']\n",
      "acc_now_delinq [0]\n",
      "chargeoff_within_12_mths [ 0. nan]\n",
      "delinq_amnt [0]\n",
      "tax_liens [ 0. nan]\n"
     ]
    }
   ],
   "source": [
    "#Check if there are columns with just 1, or 2(null included) unique value, which makes them useless\n",
    "for col in loans_df.columns:\n",
    "    unique_vals = loans_df[col].unique()\n",
    "    num_uniques = len(unique_vals)\n",
    "    if num_uniques <= 2:\n",
    "        print (col, unique_vals)"
   ]
  },
  {
   "cell_type": "markdown",
   "metadata": {},
   "source": [
    "#### Removing the following columns, since they don't contribute to any variance\n",
    "pymnt_plan ['n']\n",
    "initial_list_status ['f']\n",
    "collections_12_mths_ex_med [ 0. nan]\n",
    "policy_code [1]\n",
    "application_type ['INDIVIDUAL']\n",
    "acc_now_delinq [0]\n",
    "chargeoff_within_12_mths [ 0. nan]\n",
    "delinq_amnt [0]\n",
    "tax_liens [ 0. nan]"
   ]
  },
  {
   "cell_type": "code",
   "execution_count": 5,
   "metadata": {},
   "outputs": [],
   "source": [
    "loans_df = loans_df.drop(['pymnt_plan','initial_list_status','policy_code','delinq_amnt','acc_now_delinq','application_type','collections_12_mths_ex_med','chargeoff_within_12_mths','tax_liens'], axis=1)"
   ]
  },
  {
   "cell_type": "markdown",
   "metadata": {},
   "source": [
    "#### Remove columns that are extremely correlated from each other"
   ]
  },
  {
   "cell_type": "code",
   "execution_count": 6,
   "metadata": {},
   "outputs": [],
   "source": [
    "threshold = 0.98\n",
    "# Create correlation matrix\n",
    "corr_matrix = loans_df.corr().abs()\n",
    "\n",
    "# Select upper triangle of correlation matrix\n",
    "upper = corr_matrix.where(np.triu(np.ones(corr_matrix.shape), k=1).astype(np.bool))\n",
    "\n",
    "# Find index of feature columns with correlation greater than 0.95\n",
    "to_drop = [column for column in upper.columns if any(upper[column] > threshold)]"
   ]
  },
  {
   "cell_type": "code",
   "execution_count": 7,
   "metadata": {},
   "outputs": [
    {
     "name": "stdout",
     "output_type": "stream",
     "text": [
      "['member_id', 'funded_amnt', 'out_prncp_inv']\n",
      "                         id  member_id  loan_amnt  funded_amnt  \\\n",
      "id                      NaN    0.99365   0.141919     0.152286   \n",
      "member_id               NaN        NaN   0.140710     0.150322   \n",
      "loan_amnt               NaN        NaN        NaN     0.981578   \n",
      "funded_amnt             NaN        NaN        NaN          NaN   \n",
      "funded_amnt_inv         NaN        NaN        NaN          NaN   \n",
      "installment             NaN        NaN        NaN          NaN   \n",
      "annual_inc              NaN        NaN        NaN          NaN   \n",
      "dti                     NaN        NaN        NaN          NaN   \n",
      "delinq_2yrs             NaN        NaN        NaN          NaN   \n",
      "inq_last_6mths          NaN        NaN        NaN          NaN   \n",
      "mths_since_last_delinq  NaN        NaN        NaN          NaN   \n",
      "mths_since_last_record  NaN        NaN        NaN          NaN   \n",
      "open_acc                NaN        NaN        NaN          NaN   \n",
      "pub_rec                 NaN        NaN        NaN          NaN   \n",
      "revol_bal               NaN        NaN        NaN          NaN   \n",
      "total_acc               NaN        NaN        NaN          NaN   \n",
      "out_prncp               NaN        NaN        NaN          NaN   \n",
      "out_prncp_inv           NaN        NaN        NaN          NaN   \n",
      "total_pymnt             NaN        NaN        NaN          NaN   \n",
      "total_pymnt_inv         NaN        NaN        NaN          NaN   \n",
      "total_rec_prncp         NaN        NaN        NaN          NaN   \n",
      "total_rec_int           NaN        NaN        NaN          NaN   \n",
      "total_rec_late_fee      NaN        NaN        NaN          NaN   \n",
      "recoveries              NaN        NaN        NaN          NaN   \n",
      "collection_recovery_fee NaN        NaN        NaN          NaN   \n",
      "last_pymnt_amnt         NaN        NaN        NaN          NaN   \n",
      "pub_rec_bankruptcies    NaN        NaN        NaN          NaN   \n",
      "\n",
      "                         funded_amnt_inv  installment  annual_inc       dti  \\\n",
      "id                              0.249547     0.086587    0.008731  0.095983   \n",
      "member_id                       0.257887     0.081025    0.009380  0.096963   \n",
      "loan_amnt                       0.940034     0.930288    0.271149  0.066439   \n",
      "funded_amnt                     0.958422     0.956159    0.266965  0.066283   \n",
      "funded_amnt_inv                      NaN     0.905039    0.254375  0.074689   \n",
      "installment                          NaN          NaN    0.270874  0.054186   \n",
      "annual_inc                           NaN          NaN         NaN  0.122732   \n",
      "dti                                  NaN          NaN         NaN       NaN   \n",
      "delinq_2yrs                          NaN          NaN         NaN       NaN   \n",
      "inq_last_6mths                       NaN          NaN         NaN       NaN   \n",
      "mths_since_last_delinq               NaN          NaN         NaN       NaN   \n",
      "mths_since_last_record               NaN          NaN         NaN       NaN   \n",
      "open_acc                             NaN          NaN         NaN       NaN   \n",
      "pub_rec                              NaN          NaN         NaN       NaN   \n",
      "revol_bal                            NaN          NaN         NaN       NaN   \n",
      "total_acc                            NaN          NaN         NaN       NaN   \n",
      "out_prncp                            NaN          NaN         NaN       NaN   \n",
      "out_prncp_inv                        NaN          NaN         NaN       NaN   \n",
      "total_pymnt                          NaN          NaN         NaN       NaN   \n",
      "total_pymnt_inv                      NaN          NaN         NaN       NaN   \n",
      "total_rec_prncp                      NaN          NaN         NaN       NaN   \n",
      "total_rec_int                        NaN          NaN         NaN       NaN   \n",
      "total_rec_late_fee                   NaN          NaN         NaN       NaN   \n",
      "recoveries                           NaN          NaN         NaN       NaN   \n",
      "collection_recovery_fee              NaN          NaN         NaN       NaN   \n",
      "last_pymnt_amnt                      NaN          NaN         NaN       NaN   \n",
      "pub_rec_bankruptcies                 NaN          NaN         NaN       NaN   \n",
      "\n",
      "                         delinq_2yrs  inq_last_6mths          ...           \\\n",
      "id                          0.008644        0.042378          ...            \n",
      "member_id                   0.008119        0.047086          ...            \n",
      "loan_amnt                   0.031864        0.009229          ...            \n",
      "funded_amnt                 0.032355        0.009259          ...            \n",
      "funded_amnt_inv             0.038501        0.005712          ...            \n",
      "installment                 0.019657        0.009722          ...            \n",
      "annual_inc                  0.023083        0.033908          ...            \n",
      "dti                         0.034452        0.001405          ...            \n",
      "delinq_2yrs                      NaN        0.008091          ...            \n",
      "inq_last_6mths                   NaN             NaN          ...            \n",
      "mths_since_last_delinq           NaN             NaN          ...            \n",
      "mths_since_last_record           NaN             NaN          ...            \n",
      "open_acc                         NaN             NaN          ...            \n",
      "pub_rec                          NaN             NaN          ...            \n",
      "revol_bal                        NaN             NaN          ...            \n",
      "total_acc                        NaN             NaN          ...            \n",
      "out_prncp                        NaN             NaN          ...            \n",
      "out_prncp_inv                    NaN             NaN          ...            \n",
      "total_pymnt                      NaN             NaN          ...            \n",
      "total_pymnt_inv                  NaN             NaN          ...            \n",
      "total_rec_prncp                  NaN             NaN          ...            \n",
      "total_rec_int                    NaN             NaN          ...            \n",
      "total_rec_late_fee               NaN             NaN          ...            \n",
      "recoveries                       NaN             NaN          ...            \n",
      "collection_recovery_fee          NaN             NaN          ...            \n",
      "last_pymnt_amnt                  NaN             NaN          ...            \n",
      "pub_rec_bankruptcies             NaN             NaN          ...            \n",
      "\n",
      "                         out_prncp_inv  total_pymnt  total_pymnt_inv  \\\n",
      "id                            0.180591     0.140045         0.220838   \n",
      "member_id                     0.170706     0.139975         0.229307   \n",
      "loan_amnt                     0.192623     0.886613         0.854243   \n",
      "funded_amnt                   0.194675     0.903160         0.870799   \n",
      "funded_amnt_inv               0.203693     0.881228         0.913257   \n",
      "installment                   0.124932     0.856928         0.817416   \n",
      "annual_inc                    0.033472     0.257980         0.247119   \n",
      "dti                           0.036012     0.064766         0.071647   \n",
      "delinq_2yrs                   0.003203     0.022695         0.028976   \n",
      "inq_last_6mths                0.011780     0.010559         0.020277   \n",
      "mths_since_last_delinq        0.005501     0.012174         0.057515   \n",
      "mths_since_last_record        0.056635     0.004355         0.373132   \n",
      "open_acc                      0.028514     0.162663         0.152937   \n",
      "pub_rec                       0.012910     0.053668         0.054101   \n",
      "revol_bal                     0.060183     0.293204         0.277543   \n",
      "total_acc                     0.031009     0.225077         0.219244   \n",
      "out_prncp                     0.999827     0.239367         0.246537   \n",
      "out_prncp_inv                      NaN     0.239049         0.246524   \n",
      "total_pymnt                        NaN          NaN         0.970815   \n",
      "total_pymnt_inv                    NaN          NaN              NaN   \n",
      "total_rec_prncp                    NaN          NaN              NaN   \n",
      "total_rec_int                      NaN          NaN              NaN   \n",
      "total_rec_late_fee                 NaN          NaN              NaN   \n",
      "recoveries                         NaN          NaN              NaN   \n",
      "collection_recovery_fee            NaN          NaN              NaN   \n",
      "last_pymnt_amnt                    NaN          NaN              NaN   \n",
      "pub_rec_bankruptcies               NaN          NaN              NaN   \n",
      "\n",
      "                         total_rec_prncp  total_rec_int  total_rec_late_fee  \\\n",
      "id                              0.112213       0.172856            0.055082   \n",
      "member_id                       0.112168       0.173234            0.057750   \n",
      "loan_amnt                       0.852021       0.729726            0.044706   \n",
      "funded_amnt                     0.870255       0.737469            0.046705   \n",
      "funded_amnt_inv                 0.845848       0.730914            0.027172   \n",
      "installment                     0.850773       0.634725            0.056709   \n",
      "annual_inc                      0.259571       0.185476            0.006243   \n",
      "dti                             0.041316       0.106071            0.011781   \n",
      "delinq_2yrs                     0.038795       0.023077            0.030609   \n",
      "inq_last_6mths                  0.023433       0.021774            0.031215   \n",
      "mths_since_last_delinq          0.015708       0.002801            0.028460   \n",
      "mths_since_last_record          0.041470       0.128281            0.097503   \n",
      "open_acc                        0.160631       0.124499            0.018627   \n",
      "pub_rec                         0.065384       0.007470            0.002071   \n",
      "revol_bal                       0.281419       0.243000            0.003823   \n",
      "total_acc                       0.231242       0.147792            0.024715   \n",
      "out_prncp                       0.166519       0.383746            0.004644   \n",
      "out_prncp_inv                   0.166235       0.383410            0.004752   \n",
      "total_pymnt                     0.971472       0.828758            0.012981   \n",
      "total_pymnt_inv                 0.939581       0.815615            0.000796   \n",
      "total_rec_prncp                      NaN       0.684027            0.019667   \n",
      "total_rec_int                        NaN            NaN            0.069099   \n",
      "total_rec_late_fee                   NaN            NaN                 NaN   \n",
      "recoveries                           NaN            NaN                 NaN   \n",
      "collection_recovery_fee              NaN            NaN                 NaN   \n",
      "last_pymnt_amnt                      NaN            NaN                 NaN   \n",
      "pub_rec_bankruptcies                 NaN            NaN                 NaN   \n",
      "\n",
      "                         recoveries  collection_recovery_fee  last_pymnt_amnt  \\\n",
      "id                         0.033426                 0.013359         0.122365   \n",
      "member_id                  0.031565                 0.015155         0.123627   \n",
      "loan_amnt                  0.135446                 0.072853         0.448742   \n",
      "funded_amnt                0.136284                 0.074676         0.453133   \n",
      "funded_amnt_inv            0.123759                 0.060358         0.442604   \n",
      "installment                0.118152                 0.075467         0.401688   \n",
      "annual_inc                 0.021589                 0.015604         0.140401   \n",
      "dti                        0.024878                 0.011033         0.005212   \n",
      "delinq_2yrs                0.012315                 0.013912         0.012149   \n",
      "inq_last_6mths             0.018972                 0.012420         0.028514   \n",
      "mths_since_last_delinq     0.008622                 0.018697         0.007023   \n",
      "mths_since_last_record     0.013125                 0.038484         0.078624   \n",
      "open_acc                   0.016396                 0.006219         0.078865   \n",
      "pub_rec                    0.005521                 0.005536         0.032214   \n",
      "revol_bal                  0.042091                 0.022400         0.120371   \n",
      "total_acc                  0.023281                 0.010551         0.162841   \n",
      "out_prncp                  0.018878                 0.011394         0.066393   \n",
      "out_prncp_inv              0.018858                 0.011382         0.066324   \n",
      "total_pymnt                0.023950                 0.024555         0.474624   \n",
      "total_pymnt_inv            0.017862                 0.015016         0.462255   \n",
      "total_rec_prncp            0.094821                 0.058634         0.543408   \n",
      "total_rec_int              0.075552                 0.033289         0.191990   \n",
      "total_rec_late_fee         0.099925                 0.093178         0.060600   \n",
      "recoveries                      NaN                 0.796816         0.069955   \n",
      "collection_recovery_fee         NaN                      NaN         0.041874   \n",
      "last_pymnt_amnt                 NaN                      NaN              NaN   \n",
      "pub_rec_bankruptcies            NaN                      NaN              NaN   \n",
      "\n",
      "                         pub_rec_bankruptcies  \n",
      "id                                   0.009505  \n",
      "member_id                            0.008769  \n",
      "loan_amnt                            0.037180  \n",
      "funded_amnt                          0.038502  \n",
      "funded_amnt_inv                      0.042746  \n",
      "installment                          0.034103  \n",
      "annual_inc                           0.016801  \n",
      "dti                                  0.005691  \n",
      "delinq_2yrs                          0.003375  \n",
      "inq_last_6mths                       0.016346  \n",
      "mths_since_last_delinq               0.025841  \n",
      "mths_since_last_record               0.823352  \n",
      "open_acc                             0.005930  \n",
      "pub_rec                              0.847305  \n",
      "revol_bal                            0.049406  \n",
      "total_acc                            0.011807  \n",
      "out_prncp                            0.010024  \n",
      "out_prncp_inv                        0.010314  \n",
      "total_pymnt                          0.043661  \n",
      "total_pymnt_inv                      0.047011  \n",
      "total_rec_prncp                      0.054125  \n",
      "total_rec_int                        0.003609  \n",
      "total_rec_late_fee                   0.005489  \n",
      "recoveries                           0.004651  \n",
      "collection_recovery_fee              0.005208  \n",
      "last_pymnt_amnt                      0.022585  \n",
      "pub_rec_bankruptcies                      NaN  \n",
      "\n",
      "[27 rows x 27 columns]\n"
     ]
    }
   ],
   "source": [
    "print(to_drop)\n",
    "print(upper)"
   ]
  },
  {
   "cell_type": "code",
   "execution_count": 8,
   "metadata": {},
   "outputs": [],
   "source": [
    "##Redundant columns 'member_id', 'funded_amnt', 'out_prncp_inv' since they are very\n",
    "##highly correlated with 'id', loan_amnt, out_prncp\n",
    "loans_df = loans_df.drop(to_drop, axis=1)"
   ]
  },
  {
   "cell_type": "code",
   "execution_count": 9,
   "metadata": {},
   "outputs": [
    {
     "name": "stdout",
     "output_type": "stream",
     "text": [
      "(39717, 45)\n"
     ]
    }
   ],
   "source": [
    "#Final loan_df shape\n",
    "print(loans_df.shape)"
   ]
  },
  {
   "cell_type": "code",
   "execution_count": 10,
   "metadata": {},
   "outputs": [
    {
     "data": {
      "text/plain": [
       "Index(['id', 'loan_amnt', 'funded_amnt_inv', 'term', 'int_rate', 'installment',\n",
       "       'grade', 'sub_grade', 'emp_title', 'emp_length', 'home_ownership',\n",
       "       'annual_inc', 'verification_status', 'issue_d', 'loan_status', 'url',\n",
       "       'desc', 'purpose', 'title', 'zip_code', 'addr_state', 'dti',\n",
       "       'delinq_2yrs', 'earliest_cr_line', 'inq_last_6mths',\n",
       "       'mths_since_last_delinq', 'mths_since_last_record', 'open_acc',\n",
       "       'pub_rec', 'revol_bal', 'revol_util', 'total_acc', 'out_prncp',\n",
       "       'total_pymnt', 'total_pymnt_inv', 'total_rec_prncp', 'total_rec_int',\n",
       "       'total_rec_late_fee', 'recoveries', 'collection_recovery_fee',\n",
       "       'last_pymnt_d', 'last_pymnt_amnt', 'next_pymnt_d', 'last_credit_pull_d',\n",
       "       'pub_rec_bankruptcies'],\n",
       "      dtype='object')"
      ]
     },
     "execution_count": 10,
     "metadata": {},
     "output_type": "execute_result"
    }
   ],
   "source": [
    "loans_df.columns"
   ]
  },
  {
   "cell_type": "markdown",
   "metadata": {},
   "source": [
    "### Bivariate Analysis"
   ]
  },
  {
   "cell_type": "code",
   "execution_count": 11,
   "metadata": {},
   "outputs": [],
   "source": [
    "##Let's check if zip code affects loan default"
   ]
  },
  {
   "cell_type": "code",
   "execution_count": 39,
   "metadata": {},
   "outputs": [],
   "source": [
    "zipcode_pivot_df =loans_df.pivot_table(index='zip_code',columns='loan_status', values='id',aggfunc='count',fill_value=0)"
   ]
  },
  {
   "cell_type": "code",
   "execution_count": 40,
   "metadata": {},
   "outputs": [],
   "source": [
    "zipcode_pivot_df['default_ratio_loanscompleted%'] = (zipcode_pivot_df['Charged Off']/(zipcode_pivot_df['Fully Paid']+ zipcode_pivot_df['Charged Off']))*100"
   ]
  },
  {
   "cell_type": "code",
   "execution_count": 41,
   "metadata": {},
   "outputs": [],
   "source": [
    "zipcode_pivot_df.sort_values(by='default_ratio_loanscompleted%', inplace=True, ascending=False)"
   ]
  },
  {
   "cell_type": "code",
   "execution_count": 44,
   "metadata": {},
   "outputs": [],
   "source": [
    "zipcode_pivot_df['total_loans_completed'] =zipcode_pivot_df['Fully Paid']+ zipcode_pivot_df['Charged Off']"
   ]
  },
  {
   "cell_type": "code",
   "execution_count": 45,
   "metadata": {},
   "outputs": [
    {
     "data": {
      "text/html": [
       "<div>\n",
       "<style scoped>\n",
       "    .dataframe tbody tr th:only-of-type {\n",
       "        vertical-align: middle;\n",
       "    }\n",
       "\n",
       "    .dataframe tbody tr th {\n",
       "        vertical-align: top;\n",
       "    }\n",
       "\n",
       "    .dataframe thead th {\n",
       "        text-align: right;\n",
       "    }\n",
       "</style>\n",
       "<table border=\"1\" class=\"dataframe\">\n",
       "  <thead>\n",
       "    <tr style=\"text-align: right;\">\n",
       "      <th>loan_status</th>\n",
       "      <th>Charged Off</th>\n",
       "      <th>Current</th>\n",
       "      <th>Fully Paid</th>\n",
       "      <th>default_ratio_loanscompleted%</th>\n",
       "      <th>total_loans_completed</th>\n",
       "    </tr>\n",
       "    <tr>\n",
       "      <th>zip_code</th>\n",
       "      <th></th>\n",
       "      <th></th>\n",
       "      <th></th>\n",
       "      <th></th>\n",
       "      <th></th>\n",
       "    </tr>\n",
       "  </thead>\n",
       "  <tbody>\n",
       "    <tr>\n",
       "      <th>561xx</th>\n",
       "      <td>5</td>\n",
       "      <td>0</td>\n",
       "      <td>2</td>\n",
       "      <td>71.428571</td>\n",
       "      <td>7</td>\n",
       "    </tr>\n",
       "    <tr>\n",
       "      <th>746xx</th>\n",
       "      <td>5</td>\n",
       "      <td>0</td>\n",
       "      <td>2</td>\n",
       "      <td>71.428571</td>\n",
       "      <td>7</td>\n",
       "    </tr>\n",
       "  </tbody>\n",
       "</table>\n",
       "</div>"
      ],
      "text/plain": [
       "loan_status  Charged Off  Current  Fully Paid  default_ratio_loanscompleted%  \\\n",
       "zip_code                                                                       \n",
       "561xx                  5        0           2                      71.428571   \n",
       "746xx                  5        0           2                      71.428571   \n",
       "\n",
       "loan_status  total_loans_completed  \n",
       "zip_code                            \n",
       "561xx                            7  \n",
       "746xx                            7  "
      ]
     },
     "execution_count": 45,
     "metadata": {},
     "output_type": "execute_result"
    }
   ],
   "source": [
    "zipcode_pivot_df.loc[(zipcode_pivot_df['default_ratio_loanscompleted%'] > 70) & (zipcode_pivot_df.total_loans_completed>5)]"
   ]
  },
  {
   "cell_type": "code",
   "execution_count": null,
   "metadata": {},
   "outputs": [],
   "source": []
  }
 ],
 "metadata": {
  "kernelspec": {
   "display_name": "Python 3",
   "language": "python",
   "name": "python3"
  },
  "language_info": {
   "codemirror_mode": {
    "name": "ipython",
    "version": 3
   },
   "file_extension": ".py",
   "mimetype": "text/x-python",
   "name": "python",
   "nbconvert_exporter": "python",
   "pygments_lexer": "ipython3",
   "version": "3.7.0"
  }
 },
 "nbformat": 4,
 "nbformat_minor": 2
}
