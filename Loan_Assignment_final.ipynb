{
 "cells": [
  {
   "cell_type": "code",
   "execution_count": 19,
   "metadata": {},
   "outputs": [],
   "source": [
    "import pandas as pd\n",
    "import numpy as np\n",
    "import seaborn as sns\n",
    "import matplotlib.pyplot as plt\n",
    "import re"
   ]
  },
  {
   "cell_type": "markdown",
   "metadata": {},
   "source": [
    "## Data Extraction"
   ]
  },
  {
   "cell_type": "code",
   "execution_count": 20,
   "metadata": {},
   "outputs": [
    {
     "name": "stderr",
     "output_type": "stream",
     "text": [
      "/Users/aarora7/anaconda3/lib/python3.7/site-packages/IPython/core/interactiveshell.py:2785: DtypeWarning: Columns (47) have mixed types. Specify dtype option on import or set low_memory=False.\n",
      "  interactivity=interactivity, compiler=compiler, result=result)\n"
     ]
    }
   ],
   "source": [
    "loans_df = pd.read_csv('loan.csv',encoding='utf-8')"
   ]
  },
  {
   "cell_type": "markdown",
   "metadata": {},
   "source": [
    "## Data Cleaning"
   ]
  },
  {
   "cell_type": "code",
   "execution_count": 21,
   "metadata": {},
   "outputs": [],
   "source": [
    "#Check if there any columns, with all rows null. Remove such columns\n",
    "loans_df = loans_df.dropna(how='all',axis=1)"
   ]
  },
  {
   "cell_type": "code",
   "execution_count": 22,
   "metadata": {},
   "outputs": [
    {
     "data": {
      "text/plain": [
       "next_pymnt_d                  97.129693\n",
       "mths_since_last_record        92.985372\n",
       "mths_since_last_delinq        64.662487\n",
       "desc                          32.580507\n",
       "emp_title                      6.191303\n",
       "emp_length                     2.706650\n",
       "pub_rec_bankruptcies           1.754916\n",
       "last_pymnt_d                   0.178765\n",
       "chargeoff_within_12_mths       0.140998\n",
       "collections_12_mths_ex_med     0.140998\n",
       "revol_util                     0.125891\n",
       "tax_liens                      0.098195\n",
       "title                          0.027696\n",
       "last_credit_pull_d             0.005036\n",
       "collection_recovery_fee        0.000000\n",
       "acc_now_delinq                 0.000000\n",
       "application_type               0.000000\n",
       "url                            0.000000\n",
       "pymnt_plan                     0.000000\n",
       "loan_status                    0.000000\n",
       "issue_d                        0.000000\n",
       "verification_status            0.000000\n",
       "annual_inc                     0.000000\n",
       "home_ownership                 0.000000\n",
       "delinq_amnt                    0.000000\n",
       "sub_grade                      0.000000\n",
       "grade                          0.000000\n",
       "installment                    0.000000\n",
       "int_rate                       0.000000\n",
       "term                           0.000000\n",
       "funded_amnt_inv                0.000000\n",
       "funded_amnt                    0.000000\n",
       "loan_amnt                      0.000000\n",
       "member_id                      0.000000\n",
       "purpose                        0.000000\n",
       "zip_code                       0.000000\n",
       "recoveries                     0.000000\n",
       "total_acc                      0.000000\n",
       "total_rec_late_fee             0.000000\n",
       "total_rec_int                  0.000000\n",
       "total_rec_prncp                0.000000\n",
       "total_pymnt_inv                0.000000\n",
       "total_pymnt                    0.000000\n",
       "out_prncp_inv                  0.000000\n",
       "out_prncp                      0.000000\n",
       "initial_list_status            0.000000\n",
       "last_pymnt_amnt                0.000000\n",
       "addr_state                     0.000000\n",
       "revol_bal                      0.000000\n",
       "pub_rec                        0.000000\n",
       "open_acc                       0.000000\n",
       "policy_code                    0.000000\n",
       "inq_last_6mths                 0.000000\n",
       "earliest_cr_line               0.000000\n",
       "delinq_2yrs                    0.000000\n",
       "dti                            0.000000\n",
       "id                             0.000000\n",
       "dtype: float64"
      ]
     },
     "execution_count": 22,
     "metadata": {},
     "output_type": "execute_result"
    }
   ],
   "source": [
    "#Check if there are columns with lots of data missing\n",
    "(loans_df.isnull().sum(axis = 0)/len(loans_df)*100).sort_values(ascending=False)"
   ]
  },
  {
   "cell_type": "code",
   "execution_count": 23,
   "metadata": {},
   "outputs": [],
   "source": [
    "'''\n",
    "next_pymnt_d               97.129693\n",
    "mths_since_last_record     92.985372\n",
    "mths_since_last_delinq     64.662487\n",
    "'''\n",
    "#It is observed that these columns have a large amount of data missing, so we can safely remove these\n",
    "loans_df = loans_df.drop(['mths_since_last_delinq','mths_since_last_record','next_pymnt_d'], axis=1)                     "
   ]
  },
  {
   "cell_type": "code",
   "execution_count": 24,
   "metadata": {},
   "outputs": [
    {
     "name": "stdout",
     "output_type": "stream",
     "text": [
      "term [' 36 months' ' 60 months']\n",
      "pymnt_plan ['n']\n",
      "initial_list_status ['f']\n",
      "collections_12_mths_ex_med [ 0. nan]\n",
      "policy_code [1]\n",
      "application_type ['INDIVIDUAL']\n",
      "acc_now_delinq [0]\n",
      "chargeoff_within_12_mths [ 0. nan]\n",
      "delinq_amnt [0]\n",
      "tax_liens [ 0. nan]\n"
     ]
    }
   ],
   "source": [
    "#Check if there are columns with just 1, or 2(null included) unique value, which makes them useless\n",
    "for col in loans_df.columns:\n",
    "    unique_vals = loans_df[col].unique()\n",
    "    num_uniques = len(unique_vals)\n",
    "    if num_uniques <= 2:\n",
    "        print (col, unique_vals)"
   ]
  },
  {
   "cell_type": "markdown",
   "metadata": {},
   "source": [
    "#### Removing the following columns, since they don't contribute to any variance\n",
    "pymnt_plan ['n']\n",
    "initial_list_status ['f']\n",
    "collections_12_mths_ex_med [ 0. nan]\n",
    "policy_code [1]\n",
    "application_type ['INDIVIDUAL']\n",
    "acc_now_delinq [0]\n",
    "chargeoff_within_12_mths [ 0. nan]\n",
    "delinq_amnt [0]\n",
    "tax_liens [ 0. nan]"
   ]
  },
  {
   "cell_type": "code",
   "execution_count": 25,
   "metadata": {},
   "outputs": [],
   "source": [
    "loans_df = loans_df.drop(['pymnt_plan','initial_list_status','policy_code','delinq_amnt','acc_now_delinq','application_type','collections_12_mths_ex_med','chargeoff_within_12_mths','tax_liens'], axis=1)"
   ]
  },
  {
   "cell_type": "markdown",
   "metadata": {},
   "source": [
    "#### Remove columns that are extremely correlated from each other"
   ]
  },
  {
   "cell_type": "code",
   "execution_count": 26,
   "metadata": {},
   "outputs": [],
   "source": [
    "threshold = 0.98\n",
    "# Create correlation matrix\n",
    "corr_matrix = loans_df.corr().abs()\n",
    "\n",
    "# Select upper triangle of correlation matrix\n",
    "upper = corr_matrix.where(np.triu(np.ones(corr_matrix.shape), k=1).astype(np.bool))\n",
    "\n",
    "# Find index of feature columns with correlation greater than 0.95\n",
    "to_drop = [column for column in upper.columns if any(upper[column] > threshold)]"
   ]
  },
  {
   "cell_type": "code",
   "execution_count": 27,
   "metadata": {},
   "outputs": [
    {
     "data": {
      "image/png": "[encoded data removed]",
      "text/plain": [
       "<Figure size 986.4x739.44 with 2 Axes>"
      ]
     },
     "metadata": {},
     "output_type": "display_data"
    }
   ],
   "source": [
    "#Correlation heatmap\n",
    "sns.set(rc={'figure.figsize':(13.7,10.27)})\n",
    "sns.heatmap(loans_df.corr(), vmax=1., square=False , cmap=\"YlGnBu\")\n",
    "plt.show()"
   ]
  },
  {
   "cell_type": "code",
   "execution_count": 28,
   "metadata": {},
   "outputs": [],
   "source": [
    "##Redundant columns 'member_id', 'funded_amnt', 'out_prncp_inv' since they are very\n",
    "##highly correlated with 'id', loan_amnt, out_prncp\n",
    "loans_df = loans_df.drop(to_drop, axis=1)"
   ]
  },
  {
   "cell_type": "code",
   "execution_count": 29,
   "metadata": {},
   "outputs": [
    {
     "name": "stdout",
     "output_type": "stream",
     "text": [
      "(39717, 42)\n"
     ]
    }
   ],
   "source": [
    "#Final loan_df shape\n",
    "print(loans_df.shape)"
   ]
  },
  {
   "cell_type": "code",
   "execution_count": 30,
   "metadata": {},
   "outputs": [
    {
     "data": {
      "text/plain": [
       "Index(['id', 'loan_amnt', 'funded_amnt_inv', 'term', 'int_rate', 'installment',\n",
       "       'grade', 'sub_grade', 'emp_title', 'emp_length', 'home_ownership',\n",
       "       'annual_inc', 'verification_status', 'issue_d', 'loan_status', 'url',\n",
       "       'desc', 'purpose', 'title', 'zip_code', 'addr_state', 'dti',\n",
       "       'delinq_2yrs', 'earliest_cr_line', 'inq_last_6mths', 'open_acc',\n",
       "       'pub_rec', 'revol_bal', 'revol_util', 'total_acc', 'out_prncp',\n",
       "       'total_pymnt', 'total_pymnt_inv', 'total_rec_prncp', 'total_rec_int',\n",
       "       'total_rec_late_fee', 'recoveries', 'collection_recovery_fee',\n",
       "       'last_pymnt_d', 'last_pymnt_amnt', 'last_credit_pull_d',\n",
       "       'pub_rec_bankruptcies'],\n",
       "      dtype='object')"
      ]
     },
     "execution_count": 30,
     "metadata": {},
     "output_type": "execute_result"
    }
   ],
   "source": [
    "loans_df.columns"
   ]
  },
  {
   "cell_type": "code",
   "execution_count": 32,
   "metadata": {},
   "outputs": [],
   "source": [
    "#wrote filtered columns in a file\n",
    "#for convenience \n",
    "dd= pd.read_csv('dd.csv')\n",
    "dd[dd['LoanStatNew'].isin(loans_df.columns)].to_csv('fdd.csv', sep=',')"
   ]
  },
  {
   "cell_type": "markdown",
   "metadata": {},
   "source": [
    "### Bivariate Analysis"
   ]
  },
  {
   "cell_type": "code",
   "execution_count": 42,
   "metadata": {},
   "outputs": [],
   "source": [
    "##Let's check if zip code affects loan default"
   ]
  },
  {
   "cell_type": "code",
   "execution_count": 43,
   "metadata": {},
   "outputs": [],
   "source": [
    "zipcode_pivot_df =loans_df.pivot_table(index='zip_code',columns='loan_status', values='id',aggfunc='count',fill_value=0)"
   ]
  },
  {
   "cell_type": "code",
   "execution_count": 44,
   "metadata": {},
   "outputs": [],
   "source": [
    "zipcode_pivot_df['default_ratio_loanscompleted%'] = (zipcode_pivot_df['Charged Off']/(zipcode_pivot_df['Fully Paid']+ zipcode_pivot_df['Charged Off']))*100"
   ]
  },
  {
   "cell_type": "code",
   "execution_count": 45,
   "metadata": {},
   "outputs": [],
   "source": [
    "zipcode_pivot_df.sort_values(by='default_ratio_loanscompleted%', inplace=True, ascending=False)"
   ]
  },
  {
   "cell_type": "code",
   "execution_count": 46,
   "metadata": {},
   "outputs": [],
   "source": [
    "zipcode_pivot_df['total_loans_completed'] =zipcode_pivot_df['Fully Paid']+ zipcode_pivot_df['Charged Off']"
   ]
  },
  {
   "cell_type": "code",
   "execution_count": 47,
   "metadata": {},
   "outputs": [
    {
     "data": {
      "text/html": [
       "<div>\n",
       "<style scoped>\n",
       "    .dataframe tbody tr th:only-of-type {\n",
       "        vertical-align: middle;\n",
       "    }\n",
       "\n",
       "    .dataframe tbody tr th {\n",
       "        vertical-align: top;\n",
       "    }\n",
       "\n",
       "    .dataframe thead th {\n",
       "        text-align: right;\n",
       "    }\n",
       "</style>\n",
       "<table border=\"1\" class=\"dataframe\">\n",
       "  <thead>\n",
       "    <tr style=\"text-align: right;\">\n",
       "      <th>loan_status</th>\n",
       "      <th>Charged Off</th>\n",
       "      <th>Current</th>\n",
       "      <th>Fully Paid</th>\n",
       "      <th>default_ratio_loanscompleted%</th>\n",
       "      <th>total_loans_completed</th>\n",
       "    </tr>\n",
       "    <tr>\n",
       "      <th>zip_code</th>\n",
       "      <th></th>\n",
       "      <th></th>\n",
       "      <th></th>\n",
       "      <th></th>\n",
       "      <th></th>\n",
       "    </tr>\n",
       "  </thead>\n",
       "  <tbody>\n",
       "    <tr>\n",
       "      <th>561xx</th>\n",
       "      <td>5</td>\n",
       "      <td>0</td>\n",
       "      <td>2</td>\n",
       "      <td>71.428571</td>\n",
       "      <td>7</td>\n",
       "    </tr>\n",
       "    <tr>\n",
       "      <th>746xx</th>\n",
       "      <td>5</td>\n",
       "      <td>0</td>\n",
       "      <td>2</td>\n",
       "      <td>71.428571</td>\n",
       "      <td>7</td>\n",
       "    </tr>\n",
       "  </tbody>\n",
       "</table>\n",
       "</div>"
      ],
      "text/plain": [
       "loan_status  Charged Off  Current  Fully Paid  default_ratio_loanscompleted%  \\\n",
       "zip_code                                                                       \n",
       "561xx                  5        0           2                      71.428571   \n",
       "746xx                  5        0           2                      71.428571   \n",
       "\n",
       "loan_status  total_loans_completed  \n",
       "zip_code                            \n",
       "561xx                            7  \n",
       "746xx                            7  "
      ]
     },
     "execution_count": 47,
     "metadata": {},
     "output_type": "execute_result"
    }
   ],
   "source": [
    "zipcode_pivot_df.loc[(zipcode_pivot_df['default_ratio_loanscompleted%'] > 70) & (zipcode_pivot_df.total_loans_completed>5)]"
   ]
  },
  {
   "cell_type": "code",
   "execution_count": null,
   "metadata": {},
   "outputs": [],
   "source": [
    "#TODO \n",
    "#1 ) Linear Discriminate Analysis\n",
    "# "
   ]
  },
  {
   "cell_type": "code",
   "execution_count": null,
   "metadata": {},
   "outputs": [],
   "source": [
    "sns.pairplot(loans_df)"
   ]
  },
  {
   "cell_type": "code",
   "execution_count": null,
   "metadata": {},
   "outputs": [],
   "source": []
  }
 ],
 "metadata": {
  "kernelspec": {
   "display_name": "Python 3",
   "language": "python",
   "name": "python3"
  },
  "language_info": {
   "codemirror_mode": {
    "name": "ipython",
    "version": 3
   },
   "file_extension": ".py",
   "mimetype": "text/x-python",
   "name": "python",
   "nbconvert_exporter": "python",
   "pygments_lexer": "ipython3",
   "version": "3.7.0"
  }
 },
 "nbformat": 4,
 "nbformat_minor": 2
}
